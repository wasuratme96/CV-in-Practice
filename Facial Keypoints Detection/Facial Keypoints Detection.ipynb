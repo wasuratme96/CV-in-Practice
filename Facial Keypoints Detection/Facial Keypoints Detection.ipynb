{
 "cells": [
  {
   "cell_type": "code",
   "execution_count": null,
   "metadata": {},
   "outputs": [],
   "source": []
  }
 ],
 "metadata": {
  "kernelspec": {
   "display_name": "Python 3.10.6 ('torch-vision')",
   "language": "python",
   "name": "python3"
  },
  "language_info": {
   "name": "python",
   "version": "3.10.6"
  },
  "orig_nbformat": 4,
  "vscode": {
   "interpreter": {
    "hash": "3eb3952f07688a875a6f8857a24fcd0ed71bd676e9977ca954e355e4ab1dd3de"
   }
  }
 },
 "nbformat": 4,
 "nbformat_minor": 2
}
